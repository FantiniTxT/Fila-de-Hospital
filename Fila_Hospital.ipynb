{
 "cells": [
  {
   "cell_type": "markdown",
   "metadata": {},
   "source": [
    "### Dicionário dos pacientes [entrada]"
   ]
  },
  {
   "cell_type": "code",
   "execution_count": 2,
   "metadata": {},
   "outputs": [],
   "source": [
    "# Pacientes\n",
    "pacientes = [\n",
    "    {\"nome\": \"Maria\", \"idade\": 72, \"urgencia\": \"alta\"},\n",
    "    {\"nome\": \"Lucas\", \"idade\": 50, \"urgencia\": \"média\"},\n",
    "    {\"nome\": \"Ana\", \"idade\": 34, \"urgencia\": \"baixa\"},\n",
    "    {\"nome\": \"João\", \"idade\": 59, \"urgencia\": \"alta\"},\n",
    "    {\"nome\": \"Clara\", \"idade\": 28, \"urgencia\": \"média\"},\n",
    "    {\"nome\": \"Pedro\", \"idade\": 80, \"urgencia\": \"alta\"},\n",
    "    {\"nome\": \"Carla\", \"idade\": 65, \"urgencia\": \"baixa\"}\n",
    "]"
   ]
  },
  {
   "cell_type": "markdown",
   "metadata": {},
   "source": [
    "### Classe dos pacientes"
   ]
  },
  {
   "cell_type": "code",
   "execution_count": 3,
   "metadata": {},
   "outputs": [],
   "source": [
    "class Paciente :\n",
    "    def __init__ (self, nome, idade, urgencia) :\n",
    "        self.nome = nome\n",
    "        self.idade = idade\n",
    "        self.urgencia = urgencia"
   ]
  },
  {
   "cell_type": "markdown",
   "metadata": {},
   "source": [
    "### Classe da fila"
   ]
  },
  {
   "cell_type": "code",
   "execution_count": 4,
   "metadata": {},
   "outputs": [],
   "source": [
    "# Fução que verifica urgência\n",
    "def descobre(urgencia, grau) :\n",
    "   if urgencia == grau :\n",
    "    return True\n",
    "\n",
    "class FilaHospital :\n",
    "    def __init__(self):\n",
    "        self.fila = []\n",
    "\n",
    "    # Método que adiciona paciente\n",
    "    def adicionar_paciente(self, paciente_novo):\n",
    "        self.fila.append(paciente_novo)\n",
    "        # Cria fila temporária\n",
    "        fila_t = []\n",
    "        # Define categorias\n",
    "        categorias = [\"alta\", \"média\", \"baixa\"]\n",
    "        # Ordena fila temporária\n",
    "        for categoria in categorias :\n",
    "            for paciente in self.fila :\n",
    "                if (descobre(paciente.urgencia, categoria)) and (paciente.idade >= 60) :\n",
    "                    fila_t.append(paciente)\n",
    "            for paciente in self.fila :\n",
    "                if (descobre(paciente.urgencia, categoria)) and (paciente.idade < 60) :\n",
    "                    fila_t.append(paciente)\n",
    "        # Atualiza fila (para a ordenada)\n",
    "        self.fila = fila_t\n",
    "\n",
    "    # Método que mostra fila\n",
    "    def exibir_fila(self) :\n",
    "        print(\"/---------------------------------\\\\\")\n",
    "        print(\"Ordem de atendimento\")\n",
    "        # Define categorias\n",
    "        categorias = [\"alta\", \"média\", \"baixa\"]\n",
    "        # Mostra resultados de cada categoria\n",
    "        for categoria in categorias :\n",
    "            print(f\"\\n{categoria.capitalize()} urgência:\")\n",
    "            for paciente in self.fila :\n",
    "                if descobre(paciente.urgencia, categoria) :\n",
    "                    print(f\"- Nome: {paciente.nome} | Idade: {paciente.idade} anos\")\n",
    "        print(\"\\\\---------------------------------/\")\n",
    "    \n",
    "    # Método que informa e retira próximo paciente\n",
    "    def proximo_paciente(self) :\n",
    "        proximo = self.fila.pop(0)\n",
    "        print(\"\\nPróximo paciente\")\n",
    "        print(f\"- Nome: {proximo.nome} | Idade: {proximo.idade} anos | Urgência: {proximo.urgencia.capitalize()}\\n\")"
   ]
  },
  {
   "cell_type": "markdown",
   "metadata": {},
   "source": [
    "### Testes"
   ]
  },
  {
   "cell_type": "code",
   "execution_count": 5,
   "metadata": {},
   "outputs": [
    {
     "name": "stdout",
     "output_type": "stream",
     "text": [
      "/---------------------------------\\\n",
      "Ordem de atendimento\n",
      "\n",
      "Alta urgência:\n",
      "- Nome: Maria | Idade: 72 anos\n",
      "- Nome: Pedro | Idade: 80 anos\n",
      "- Nome: João | Idade: 59 anos\n",
      "\n",
      "Média urgência:\n",
      "- Nome: Lucas | Idade: 50 anos\n",
      "- Nome: Clara | Idade: 28 anos\n",
      "\n",
      "Baixa urgência:\n",
      "- Nome: Carla | Idade: 65 anos\n",
      "- Nome: Ana | Idade: 34 anos\n",
      "\\---------------------------------/\n",
      "\n",
      "Próximo paciente\n",
      "- Nome: Maria | Idade: 72 anos | Urgência: Alta\n",
      "\n",
      "/---------------------------------\\\n",
      "Ordem de atendimento\n",
      "\n",
      "Alta urgência:\n",
      "- Nome: Pedro | Idade: 80 anos\n",
      "- Nome: João | Idade: 59 anos\n",
      "\n",
      "Média urgência:\n",
      "- Nome: Lucas | Idade: 50 anos\n",
      "- Nome: Clara | Idade: 28 anos\n",
      "\n",
      "Baixa urgência:\n",
      "- Nome: Carla | Idade: 65 anos\n",
      "- Nome: Ana | Idade: 34 anos\n",
      "\\---------------------------------/\n",
      "\n",
      "Próximo paciente\n",
      "- Nome: Pedro | Idade: 80 anos | Urgência: Alta\n",
      "\n",
      "/---------------------------------\\\n",
      "Ordem de atendimento\n",
      "\n",
      "Alta urgência:\n",
      "- Nome: João | Idade: 59 anos\n",
      "\n",
      "Média urgência:\n",
      "- Nome: Lucas | Idade: 50 anos\n",
      "- Nome: Clara | Idade: 28 anos\n",
      "\n",
      "Baixa urgência:\n",
      "- Nome: Carla | Idade: 65 anos\n",
      "- Nome: Ana | Idade: 34 anos\n",
      "\\---------------------------------/\n"
     ]
    }
   ],
   "source": [
    "# Cria fila\n",
    "f1 = FilaHospital()\n",
    "\n",
    "# Adiciona pacientes\n",
    "for paciente in pacientes :\n",
    "    p = Paciente(paciente['nome'], paciente['idade'], paciente['urgencia'])\n",
    "    f1.adicionar_paciente(p)\n",
    "\n",
    "# Mostra e retira pacientes {teste}\n",
    "f1.exibir_fila()\n",
    "f1.proximo_paciente()\n",
    "f1.exibir_fila()\n",
    "f1.proximo_paciente()\n",
    "f1.exibir_fila()"
   ]
  }
 ],
 "metadata": {
  "kernelspec": {
   "display_name": "base",
   "language": "python",
   "name": "python3"
  },
  "language_info": {
   "codemirror_mode": {
    "name": "ipython",
    "version": 3
   },
   "file_extension": ".py",
   "mimetype": "text/x-python",
   "name": "python",
   "nbconvert_exporter": "python",
   "pygments_lexer": "ipython3",
   "version": "3.12.7"
  }
 },
 "nbformat": 4,
 "nbformat_minor": 2
}
